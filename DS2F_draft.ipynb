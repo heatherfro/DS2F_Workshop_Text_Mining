{
 "cells": [
  {
   "cell_type": "markdown",
   "id": "213a3be7-bddb-4a47-b580-86b3bfeae8fb",
   "metadata": {},
   "source": [
    "<h1>DS2F Workshop</h1>\n",
    "\n",
    "<h2>Coding and Decoding: Introduction to Text Analytics for Humanists and Social Scientists</h2>\n",
    "<h3> Anuj Gupta </h3>"
   ]
  },
  {
   "cell_type": "markdown",
   "id": "39467d6d-c58c-4ad1-b8e7-a46f88de4ec3",
   "metadata": {},
   "source": [
    "***\n",
    "***\n",
    "\n",
    "<div class = \"alert alert-info\">\n",
    "\n",
    "***Before we get started:***\n",
    "\n",
    "\n",
    "***First***, Welcome! \n",
    "    \n",
    "***Second*** insert inNLTK book example: change in distribution of “Freedom” and “duty” in American presidential speeches. https://www.nltk.org/book/ \n",
    "NLTK book example: change in distribution of “Freedom” and “duty” in American presidential speeches. https://www.nltk.org/book/ \n",
    "structions here \n",
    "    \n",
    "***Finally***, insert instructions here \n",
    "    \n",
    "```\n",
    "/THIS/PART/MIGHT/VARY/INFO514/Session_09\n",
    "```\n",
    "</div>\n"
   ]
  },
  {
   "cell_type": "markdown",
   "id": "a24565a3-3c75-4828-a9df-cc75224a86b0",
   "metadata": {},
   "source": [
    "<div class=\"alert alert-block alert-success\">\n",
    "    <h1> Part 1: Basic Setup </h1>\n",
    "\n",
    "<p>\n",
    "\n",
    "This is something called a Jupyter Notebook. Think of this as a Google Docs for text mining. \n",
    "Here you can write computer code and run it. It's all pretty simple once you get the hang of it.  \n",
    "    \n",
    "Here is everything you need to use it: \n",
    "    \n",
    "<h5> 1. Let's familiarize ourselves with the toolbar: </h5>\n",
    "\n",
    "</p>\n",
    "    </div>"
   ]
  },
  {
   "cell_type": "markdown",
   "id": "f381d34f-6683-48f3-8175-cb24c2fbd9d3",
   "metadata": {},
   "source": [
    "![](Images/jupytertoolbar.png)"
   ]
  },
  {
   "cell_type": "markdown",
   "id": "bc71ff6d-792b-481c-a0ab-2f7e6e4bc0fe",
   "metadata": {},
   "source": [
    "<p> The table below shows what each button does </p>"
   ]
  },
  {
   "cell_type": "markdown",
   "id": "7442564a-9230-4af8-bb32-959b2022d9ff",
   "metadata": {},
   "source": [
    "\n",
    "Button|Function\n",
    "-|-\n",
    "![](Images/jupytertoolbarsave.png)|This is your save button. You can click this button to save your notebook at any time, though keep in mind that Jupyter Notebooks automatically save your progress very frequently.  \n",
    "![](Images/jupytertoolbarnewcell.png)|This is the new cell button. You can click this button any time you want a new cell in your Jupyter Notebook. \n",
    "![](Images/jupytertoolbarcutcell.png)|This is the cut cell button. If you click this button, the cell you currently have selected will be deleted from your Notebook. \n",
    "![](Images/jupytertoolbarcopycell.png)|This is the copy cell button. If you click this button, the currently selected cell will be duplicated and stored in your clipboard. \n",
    "![](Images/jupytertoolbarpastecell.png)|This is the past button. It allows you to paste the duplicated cell from your clipboard into your notebook. \n",
    "![](Images/jupytertoolbarupdown.png)|These buttons allow you to move the location of a selected cell within a Notebook. Simply select the cell you wish to move and click either the up or down button until the cell is in the location you want it to be.\n",
    "![](Images/jupytertoolbarrun.png)|This button will \"run\" your cell, meaning that it will interpret your input and render the output in a way that depends on [what kind of cell] [cell kind] you're using. \n",
    "![](Images/jupytertoolbarstop.png)|This is the stop button. Clicking this button will stop your cell from continuing to run. This tool can be useful if you are trying to execute more complicated code, which can sometimes take a while, and you want to edit the cell before waiting for it to finish rendering. \n",
    "![](Images/jupytertoolbarrestartkernel.png)|This is the restart kernel button. See your kernel documentation for more information.\n",
    "![](Images/jupytertoolbarcellkind.png)|This is a drop down menu which allows you to tell your Notebook how you want it to interpret any given cell. You can read more about the [different kinds of cells] [cell kind] in the following section. \n"
   ]
  },
  {
   "cell_type": "markdown",
   "id": "0eb11dba-25fd-4cc0-b8b4-8fb60b0ec14e",
   "metadata": {},
   "source": [
    "<div class=\"alert alert-block alert-warning\">\n",
    "       \n",
    "<h5> 2. We need to learn how to run cells. A cell is simply a space where you can write or edit code. Try to run the cell below! Just click on the cell and press the ▶ button above to run it.</h5>\n",
    "</div>"
   ]
  },
  {
   "cell_type": "code",
   "execution_count": 2,
   "id": "edb0f28a-b14e-4844-b8fb-5155467818f3",
   "metadata": {},
   "outputs": [
    {
     "name": "stdout",
     "output_type": "stream",
     "text": [
      "Hi! This is a cell. Click on this cell and press the ▶ button above to run it.\n"
     ]
    }
   ],
   "source": [
    "print(\"Hi! This is a cell. Click on this cell and press the ▶ button above to run it.\")"
   ]
  },
  {
   "cell_type": "markdown",
   "id": "369cfe4e-65b0-48cc-9224-552e10b01114",
   "metadata": {},
   "source": [
    "Notice, that the input code cell, which was once represented as: \n",
    "\n",
    "`In [ ]:` \n",
    "\n",
    "has now become: \n",
    "\n",
    "`In [1]:` \n",
    "\n",
    "This means your code in that particular cell has run, and it was the first line of code that ran (hence the `1`). \n",
    "\n",
    "***\n",
    "\n",
    "This code ran quickly. However, sometimes it might take some time. If your code is still running it'll look like this:\n",
    "\n",
    "`In [*]:`\n",
    "\n",
    "That \"star\" in between the brackets means this cell of code is still running. Be on the lookout whenever you run your code in Jupyter Notebook. "
   ]
  },
  {
   "cell_type": "markdown",
   "id": "bfb3cb36-bc92-4e76-9bff-1f7664e54fd7",
   "metadata": {
    "tags": []
   },
   "source": [
    "<div class=\"alert alert-block alert-warning\">\n",
    "       \n",
    "<h5> 3. Finally, let's try and understand in very simple terms what Python is and how it works.</h5>\n",
    "</div>"
   ]
  },
  {
   "cell_type": "markdown",
   "id": "dba58a06-7e22-4b22-96c0-0be44609195c",
   "metadata": {},
   "source": [
    "<p> Python is one of the many computer languages that exist in the world. It is used widely in text mining because compared to  many of the other languages out there, it is relatively the closed to English language and easiest to learn. I love it because it is:\n",
    "    \n",
    "    \n",
    "    1. Easy to use\n",
    "    2. Lots of help available online. \n",
    "    3. You can easily copy paste other people's code and customize it for your research. \n",
    "\n",
    "In this tutorial we obviously don't have time to go into the intracies of how Python works but we will get a very basic surface level understanding of it. </p>"
   ]
  },
  {
   "cell_type": "markdown",
   "id": "6917edde-2741-4fed-967f-7b86f8d01c8e",
   "metadata": {},
   "source": [
    "<p> When we write code in Python, we are simply writing commands in a language that our computer understands. Essentially we are telling the computer to do something for us. For example, let's use Python to tell the Computer to do some addition for us:</p>"
   ]
  },
  {
   "cell_type": "code",
   "execution_count": 37,
   "id": "41f9d6fc-f401-47fa-945c-866f86ef958a",
   "metadata": {},
   "outputs": [
    {
     "name": "stdout",
     "output_type": "stream",
     "text": [
      "the sum of these numbers is 12\n"
     ]
    }
   ],
   "source": [
    "first_number = 5\n",
    "second_number = 7 \n",
    "sum = first_number + second_number \n",
    "print(\"the sum of these numbers is \" +str(sum))"
   ]
  },
  {
   "cell_type": "markdown",
   "id": "9e938563-9fa3-4e0c-9533-c1b72338aed8",
   "metadata": {},
   "source": [
    "<p>Excellent! You just ran your first Python code! What we did here is simply to create variables called \"first_number\" and \"second_number\" and then to store certain data in them (the numbers 5 and 7). Then we created a new variable called \"sum\" and told the computer that we want to sure the sum of those first two variables in that third variable. Finally, we asked the computer to print or display whatever is stored in that third variable called \"sum\". That's it! That's all there is. tocomputer programming! If you understand this basic syntax, you can do amazing and powerful things. Its all about building more and more complexity to this basic structure. </p>"
   ]
  },
  {
   "cell_type": "markdown",
   "id": "88e2670f-73b6-44a3-82fc-4d5a1549b5a3",
   "metadata": {},
   "source": [
    "<div class=\"alert alert-block alert-warning\">\n",
    "       \n",
    "<h5> 4. Now that you understand how a basic Python code is written, let's add some complexity by learning what a \"library\" and a \"function\" is.</h5>\n",
    "</div>"
   ]
  },
  {
   "cell_type": "markdown",
   "id": "c7309039-de44-47fa-95c6-fd7891ef4b90",
   "metadata": {},
   "source": [
    "<h4> Understanding functions in Python </h4>\n",
    "<p> The really cool thing about Python is that instead of always writing fresh code, we can recycle code that others have written, almost like how in academic writing we use ideas of other scholars to build up our own work. Each bit of code written by someone else that can use is called a \"function\". For example, in the above cells we just wrote a code for a \"sum\" function that could add two numbers together. \n",
    "    \n",
    "    Function = collection of code that performs a particular purpose. \n",
    "    \n",
    "Let's what this looks like in practice.</p>"
   ]
  },
  {
   "cell_type": "code",
   "execution_count": 18,
   "id": "1a0cff8f-f6dd-4cde-af02-ae156e282f7b",
   "metadata": {},
   "outputs": [
    {
     "name": "stdout",
     "output_type": "stream",
     "text": [
      "the total number of characters in my text is 46\n"
     ]
    }
   ],
   "source": [
    "text = \"i am a human being trying to learn text mining\" \n",
    "count =len(text)\n",
    "print(\"the total number of characters in my text is \" + str(count))"
   ]
  },
  {
   "cell_type": "markdown",
   "id": "aeaa6111-50aa-4346-941d-7bb87da34da9",
   "metadata": {},
   "source": [
    "<p>Here we have used a function called \"len\" which means \"length\" and it basically just calculates the number of characters (alphabets, numbers, punctuation, spaces etc.) that we have stored in a variable </p>"
   ]
  },
  {
   "cell_type": "markdown",
   "id": "68022347-6c68-43b5-a28a-182869b2d756",
   "metadata": {},
   "source": [
    "<p> Just like this \"len\" function there are millions of functions for which people across the world have written code so that we don't need to reinvetent the wheel each time. We can simply recycle these functions for our purposes and stand on the shoulders of gians, kind of like how in academic writing we use ideas from other scholars.</p>"
   ]
  },
  {
   "cell_type": "markdown",
   "id": "35ff6791-df67-45fd-8ef8-774706f33cbc",
   "metadata": {
    "tags": []
   },
   "source": [
    "\n",
    "\n",
    "<div class=\"alert alert-danger\">\n",
    "    \n",
    "## Now you try!\n",
    "\n",
    "In the cells below, first replace the text that says \"input text here\" with any sentence you like. Then click on the cell that follows to see how many characters it contains\n",
    "</div>"
   ]
  },
  {
   "cell_type": "code",
   "execution_count": 20,
   "id": "61738c78-a418-454b-aaf5-e7816b164f55",
   "metadata": {},
   "outputs": [],
   "source": [
    "my_text = \"input your text here\" \n"
   ]
  },
  {
   "cell_type": "code",
   "execution_count": 21,
   "id": "bf398747-bd14-4ed4-8bbe-51916e02cbd8",
   "metadata": {},
   "outputs": [
    {
     "name": "stdout",
     "output_type": "stream",
     "text": [
      "the total number of characters in my text is 20\n"
     ]
    }
   ],
   "source": [
    "my_count =len(my_text)\n",
    "print(\"the total number of characters in my text is \" + str(my_count))"
   ]
  },
  {
   "cell_type": "markdown",
   "id": "d4a88fba-2674-4fee-b05d-7958d98372bd",
   "metadata": {},
   "source": [
    "<h4> Understanding libraries in Python </h4>\n",
    "\n",
    "<p> Now if people simply wrote individual functions and uploaded them it could create chaos because there would be billions of functions just floating around in the world, make it very difficult for us to see which functions are useful for us to learn. So to create some method in the madness, people have come up with the idea of \"libraries\" which are simply collections of functions clubbed together based on how connected they are.  \n",
    "    \n",
    "    Library = collection of functions that perform similar roles.  \n",
    "    \n",
    "Think of functions like a chapter and a library like a book that holds them together</p>\n",
    "\n",
    "Let's see what this looks like in practice "
   ]
  },
  {
   "cell_type": "markdown",
   "id": "17bff814-ec36-4d3c-a9ee-384bcbfdf3ab",
   "metadata": {},
   "source": [
    "<p> First let us download a library called \"nltk\" or Natural Language ToolKit (© 2022, NLTK Project) which is a specific library created by these amazing folks (https://www.nltk.org/team.html) to help us do text mining.</p>"
   ]
  },
  {
   "cell_type": "code",
   "execution_count": 22,
   "id": "b8bf5d39-c757-4b0e-8ee2-4a481bc63184",
   "metadata": {},
   "outputs": [
    {
     "name": "stdout",
     "output_type": "stream",
     "text": [
      "showing info https://raw.githubusercontent.com/nltk/nltk_data/gh-pages/index.xml\n"
     ]
    },
    {
     "data": {
      "text/plain": [
       "True"
      ]
     },
     "execution_count": 22,
     "metadata": {},
     "output_type": "execute_result"
    }
   ],
   "source": [
    "import nltk\n",
    "nltk.download()"
   ]
  },
  {
   "cell_type": "markdown",
   "id": "7c336ff8-4ab7-4a3c-ba0c-2168ccca2c01",
   "metadata": {},
   "source": [
    "\n",
    "\n",
    "<div class=\"alert alert-block alert-warning\">\n",
    "\n",
    "Once you click on the cell above, a pop up will appear. Click on \"book\" there and then click \"install\". Once its installed, close the close button and return to the notebook. \n",
    "    \n",
    "\n",
    "\n",
    "</div>"
   ]
  },
  {
   "cell_type": "markdown",
   "id": "94fd4539-31ca-49f3-9dad-142a6de9b17c",
   "metadata": {},
   "source": [
    "<h4> Exploring the NLTK Library </h4>\n",
    "\n",
    "<p> The NLTK or Natural Language Tool Kit Library © 2022, NLTK Project is a library that the wonderful folks in this team (https://www.nltk.org/team.html)created to help folks like us do some cool text mining!\n",
    "\n",
    "\n",
    "It essentially contains a whole bunch of corpora (collecting of famous texts) and text mining functions that we can use to expore them</p>"
   ]
  },
  {
   "cell_type": "markdown",
   "id": "f2fc1bd3-f659-4d68-bd08-8247394652f9",
   "metadata": {},
   "source": [
    "<h4> Loading corpora </h4>\n",
    "<p> A corpus is simply a collection of texts and corpora is plural for corpus. The NLTK library, apart from containing amazing text mining functions also contains some really cool in-built corpora that we can use use to have some fun. Let's download a few them by clicking on the cell below.\n",
    "\n",
    "As always, don't worry about the specific coding syntax we are using to do this as this workshop is not so much about learning the particular syntax but about gaining familiarity what what it can dox</p>"
   ]
  },
  {
   "cell_type": "code",
   "execution_count": 26,
   "id": "2b413bbd-3b1f-4abe-8714-c19d980032bf",
   "metadata": {},
   "outputs": [
    {
     "name": "stdout",
     "output_type": "stream",
     "text": [
      "*** Introductory Examples for the NLTK Book ***\n",
      "Loading text1, ..., text9 and sent1, ..., sent9\n",
      "Type the name of the text or sentence to view it.\n",
      "Type: 'texts()' or 'sents()' to list the materials.\n",
      "text1: Moby Dick by Herman Melville 1851\n",
      "text2: Sense and Sensibility by Jane Austen 1811\n",
      "text3: The Book of Genesis\n",
      "text4: Inaugural Address Corpus\n",
      "text5: Chat Corpus\n",
      "text6: Monty Python and the Holy Grail\n",
      "text7: Wall Street Journal\n",
      "text8: Personals Corpus\n",
      "text9: The Man Who Was Thursday by G . K . Chesterton 1908\n"
     ]
    }
   ],
   "source": [
    "from nltk.book import*"
   ]
  },
  {
   "cell_type": "markdown",
   "id": "1fcdb5b9-4bf2-4e5b-a4cb-25771b7a031f",
   "metadata": {},
   "source": [
    "<p> As we can see here, Python has just downloaded 9 corpora for each and stored them in variables ranging from text1...text9. Each of these is either a famous literary work (like text1 --> Moby Dick) or collection of important socio-political texts (like text4 --> a collection of the inaugural addresses given by all american presidents till today) </p>"
   ]
  },
  {
   "cell_type": "markdown",
   "id": "204e8cfe-a5ab-4d5e-8311-54f9ab3f9423",
   "metadata": {
    "tags": []
   },
   "source": [
    "<h4> Using NLTK Functions </h4>\n",
    "\n",
    "<p> By now, I hope that you are familiar with what functions are. The NLTK has thousands of functions which help us do different kinds of text mining. Let's see how one of these functions called \"concordance\". It is a function that allows us to see the context in which key words that interest appear in the corpora of our choice</p> "
   ]
  },
  {
   "cell_type": "code",
   "execution_count": 1,
   "id": "fc297fac-77dd-4434-9498-39979e14ada6",
   "metadata": {},
   "outputs": [
    {
     "ename": "NameError",
     "evalue": "name 'text8' is not defined",
     "output_type": "error",
     "traceback": [
      "\u001b[0;31m---------------------------------------------------------------------------\u001b[0m",
      "\u001b[0;31mNameError\u001b[0m                                 Traceback (most recent call last)",
      "Input \u001b[0;32mIn [1]\u001b[0m, in \u001b[0;36m<cell line: 1>\u001b[0;34m()\u001b[0m\n\u001b[0;32m----> 1\u001b[0m \u001b[43mtext8\u001b[49m\u001b[38;5;241m.\u001b[39mconcordance(\u001b[38;5;124m\"\u001b[39m\u001b[38;5;124mGod\u001b[39m\u001b[38;5;124m\"\u001b[39m)\n",
      "\u001b[0;31mNameError\u001b[0m: name 'text8' is not defined"
     ]
    }
   ],
   "source": [
    "text8.concordance(\"God\")"
   ]
  },
  {
   "cell_type": "markdown",
   "id": "6d3686aa-fba1-488b-8481-f8ac5ce2dc07",
   "metadata": {},
   "source": [
    "<div class=\"alert alert-block alert-success\">\n",
    "    <h1> Part 2: Text Mining Techniques </h1>\n",
    "\n",
    "<p>\n",
    "\n",
    "Now that we understand the basics, let's start exploring some cool text mining techniques. \n",
    "    \n",
    "Please keep in mind that you are not expected to memorize or fully comprehend the specific syntax of the code that we will now use. Rather, you are expected to get a sense of its broad functionality and learn how to customise it for your purposes \n",
    "\n",
    "</p>\n",
    "    </div>"
   ]
  },
  {
   "cell_type": "markdown",
   "id": "0dee5cd9-4d13-426a-8e17-704804fcd4f5",
   "metadata": {},
   "source": [
    "***\n",
    "<div class=\"alert alert-block alert-warning\">\n",
    "       \n",
    "<h4> Technique 1: Frequency distributions</h4>\n",
    "</div>\n",
    "\n"
   ]
  },
  {
   "cell_type": "markdown",
   "id": "f31e0590-4878-4112-8f22-d9565342b165",
   "metadata": {},
   "source": [
    "<h5> What is \"frequency\" and why should we care? </h5>\n",
    "\n",
    "<p> Counting the frequency of words in a text or corpus is the most basic text mining function that can be performed.“High-frequency words are valuable because they have “aboutness”; they suggest what the overall textual object is about (Archer, 2009a, p. 4). The frequency of words is “a relatively objective means of uncovering lexical salience/(frequency) patterns that invite—and frequently repay—further qualitative investigation,” as Dawn Archer (2009a, p. 15) states” (Carradini 43 qtd. In Schreiber and Melonçon, 2021). \n",
    "\n",
    "\n",
    "</p>"
   ]
  },
  {
   "cell_type": "code",
   "execution_count": null,
   "id": "ba635826-d3a9-4b55-b921-5dc268680454",
   "metadata": {},
   "outputs": [],
   "source": [
    "#coding practice "
   ]
  },
  {
   "cell_type": "code",
   "execution_count": null,
   "id": "7e59b25d-91b6-4bba-a00a-1cb88c506fc3",
   "metadata": {},
   "outputs": [],
   "source": [
    "#try it yourself"
   ]
  },
  {
   "cell_type": "code",
   "execution_count": null,
   "id": "5ef6d7a7-b718-453e-bfd2-13df73ffd9ad",
   "metadata": {},
   "outputs": [],
   "source": [
    "#famous example that shows how this example can be used"
   ]
  },
  {
   "cell_type": "markdown",
   "id": "29657589-ce6d-4430-b356-ccb096603a20",
   "metadata": {},
   "source": [
    "***\n",
    "<div class=\"alert alert-block alert-warning\">\n",
    "       \n",
    "<h4> Technique 2: </h4>\n",
    "</div>\n",
    "\n"
   ]
  },
  {
   "cell_type": "markdown",
   "id": "be75c081-3989-4fa4-8bbf-4bbb72d12027",
   "metadata": {},
   "source": [
    "<h5> What is and why should we care? </h5>\n",
    "\n",
    "<p> \n",
    "\n",
    "\n",
    "</p>"
   ]
  },
  {
   "cell_type": "code",
   "execution_count": null,
   "id": "55ad16ea-4e86-45f5-ab20-f166296277ef",
   "metadata": {},
   "outputs": [],
   "source": [
    "#coding practice "
   ]
  },
  {
   "cell_type": "code",
   "execution_count": null,
   "id": "921b2773-840e-4916-8771-c59bc69b8fbb",
   "metadata": {},
   "outputs": [],
   "source": [
    "#try it yourself "
   ]
  },
  {
   "cell_type": "code",
   "execution_count": 38,
   "id": "98219fff-58b2-45fe-b1c1-4cb85f576078",
   "metadata": {},
   "outputs": [],
   "source": [
    "#a famous study that uses this technique: "
   ]
  },
  {
   "cell_type": "markdown",
   "id": "ec944751-9d55-435a-8ac8-929a6909f0c6",
   "metadata": {},
   "source": [
    "***\n",
    "<div class=\"alert alert-block alert-warning\">\n",
    "       \n",
    "<h4> Technique 3: </h4>\n",
    "</div>\n",
    "\n"
   ]
  },
  {
   "cell_type": "markdown",
   "id": "c07d24de-c503-406d-b428-90c4a255e6c4",
   "metadata": {},
   "source": [
    "<h5> What is xyz and why should we care? </h5>\n",
    "\n",
    "<p> \n",
    "\n",
    "\n",
    "</p>"
   ]
  },
  {
   "cell_type": "code",
   "execution_count": 38,
   "id": "df3adec8-5ef3-4358-b7f9-35ea306443ab",
   "metadata": {},
   "outputs": [],
   "source": [
    "#coding practice"
   ]
  },
  {
   "cell_type": "code",
   "execution_count": 38,
   "id": "c609d678-0348-42b9-959c-93b99d34eeec",
   "metadata": {},
   "outputs": [],
   "source": [
    "#try it yourself"
   ]
  },
  {
   "cell_type": "code",
   "execution_count": 38,
   "id": "a3382079-0f0f-4578-94f3-8236f5e890c5",
   "metadata": {},
   "outputs": [],
   "source": [
    "#a famous study that uses this technique"
   ]
  }
 ],
 "metadata": {
  "kernelspec": {
   "display_name": "Python 3 (ipykernel)",
   "language": "python",
   "name": "python3"
  },
  "language_info": {
   "codemirror_mode": {
    "name": "ipython",
    "version": 3
   },
   "file_extension": ".py",
   "mimetype": "text/x-python",
   "name": "python",
   "nbconvert_exporter": "python",
   "pygments_lexer": "ipython3",
   "version": "3.8.13"
  },
  "toc-autonumbering": false,
  "toc-showcode": false,
  "toc-showmarkdowntxt": false
 },
 "nbformat": 4,
 "nbformat_minor": 5
}
